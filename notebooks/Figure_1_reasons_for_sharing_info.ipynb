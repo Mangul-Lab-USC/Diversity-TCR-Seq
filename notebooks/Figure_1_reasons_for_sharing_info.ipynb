{
 "cells": [
  {
   "cell_type": "code",
   "execution_count": null,
   "metadata": {},
   "outputs": [],
   "source": [
    "import numpy as np\n",
    "import matplotlib.pyplot as plt\n",
    "\n",
    "reply=[21, 21, 7, 65]\n",
    "reason=['Share in the publication','Share upon request','Not available upon request','Unavailable']\n",
    "\n",
    "c=['#FF6A6A','#CD69C9','#9B30FF','#FFC0CB']\n",
    "\n",
    "plt.pie(reply, labels=['']*4, autopct='%2.1f%%', colors=c)\n",
    "plt.legend(loc='upper center', labels = reason, bbox_to_anchor=(0.5, -0), ncol=1, fontsize=15)\n",
    "\n",
    "#plt.title('Ancestry availability')\n",
    "\n",
    "plt.savefig(\"reasons_for_sharing0601.png\", dpi=300, bbox_inches='tight', pad_inches=2) \n"
   ]
  }
 ],
 "metadata": {
  "kernelspec": {
   "display_name": "Python 3",
   "language": "python",
   "name": "python3"
  },
  "language_info": {
   "codemirror_mode": {
    "name": "ipython",
    "version": 3
   },
   "file_extension": ".py",
   "mimetype": "text/x-python",
   "name": "python",
   "nbconvert_exporter": "python",
   "pygments_lexer": "ipython3",
   "version": "3.8.5"
  }
 },
 "nbformat": 4,
 "nbformat_minor": 4
}
